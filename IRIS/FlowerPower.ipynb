{
 "cells": [
  {
   "cell_type": "markdown",
   "metadata": {},
   "source": [
    "# Iris Classification: A Light-Hearted Introduction to Machine Learning\n",
    "The Iris Classification project isn't just your run-of-the-mill class project; it's an initiation into the world of machine learning, where you get to pretend your models are smarter than they really are. Here’s what you’re getting into:\n",
    "\n",
    "1. **Understand Supervised Learning**: Master the art of turning simple flower measurements into impressive species predictions.\n",
    "2. **Use Machine Learning Tools**: Dive into the glamorous tools and libraries that every data scientist brags about.\n",
    "3. **Develop Problem-Solving Skills**: Tackle a neat problem to sharpen your skills for the real-world chaos that awaits.\n",
    "\n",
    "Think of this project as the kiddie pool before you dive into the deep ocean of advanced machine learning.\n"
   ]
  },
  {
   "cell_type": "code",
   "execution_count": 1,
   "metadata": {},
   "outputs": [],
   "source": [
    "# Importing everything because why not?\n",
    "import numpy as np\n",
    "import pandas as pd\n",
    "import matplotlib.pyplot as plt\n",
    "from sklearn.datasets import load_iris\n",
    "from sklearn.model_selection import train_test_split\n",
    "from sklearn.neighbors import KNeighborsClassifier\n",
    "from sklearn.metrics import classification_report, confusion_matrix\n"
   ]
  },
  {
   "cell_type": "markdown",
   "metadata": {},
   "source": [
    "## Step 1: Loading the Dataset\n",
    "Here, we magically load the Iris dataset. It's like opening a book, but for nerds.\n"
   ]
  },
  {
   "cell_type": "code",
   "execution_count": 2,
   "metadata": {},
   "outputs": [],
   "source": [
    "# Load the data and make it look pretty in a DataFrame\n",
    "iris = load_iris()\n",
    "iris_df = pd.DataFrame(data= np.c_[iris['data'], iris['target']],\n",
    "                       columns= iris['feature_names'] + ['target'])\n"
   ]
  }
 ],
 "metadata": {
  "kernelspec": {
   "display_name": "Python 3",
   "language": "python",
   "name": "python3"
  },
  "language_info": {
   "codemirror_mode": {
    "name": "ipython",
    "version": 3
   },
   "file_extension": ".py",
   "mimetype": "text/x-python",
   "name": "python",
   "nbconvert_exporter": "python",
   "pygments_lexer": "ipython3",
   "version": "3.11.4"
  }
 },
 "nbformat": 4,
 "nbformat_minor": 2
}

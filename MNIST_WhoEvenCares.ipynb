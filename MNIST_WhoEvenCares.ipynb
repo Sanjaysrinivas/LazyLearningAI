{
 "cells": [
  {
   "cell_type": "markdown",
   "metadata": {},
   "source": [
    "### Step 1: Import the Fancy Libraries\n",
    "\n",
    "Let’s start by importing a bunch of libraries that make it look like we know what we’re doing. These are the tools that will help us pretend we’re AI experts.\n"
   ]
  },
  {
   "cell_type": "code",
   "execution_count": 1,
   "metadata": {},
   "outputs": [],
   "source": [
    "import tensorflow as tf\n",
    "from tensorflow.keras import datasets, layers, models\n",
    "import matplotlib.pyplot as plt"
   ]
  },
  {
   "cell_type": "markdown",
   "metadata": {},
   "source": [
    "### Step 2: Load the Legendary MNIST Dataset\n",
    "\n",
    "We’re loading the MNIST dataset – a dataset so old, it probably remembers dial-up internet. Why bother finding new data when this one is still making the rounds in beginner tutorials everywhere?\n"
   ]
  },
  {
   "cell_type": "code",
   "execution_count": 2,
   "metadata": {},
   "outputs": [
    {
     "name": "stdout",
     "output_type": "stream",
     "text": [
      "Downloading data from https://storage.googleapis.com/tensorflow/tf-keras-datasets/mnist.npz\n",
      "11490434/11490434 [==============================] - 1s 0us/step\n"
     ]
    }
   ],
   "source": [
    "(train_images, train_labels), (test_images, test_labels) = datasets.mnist.load_data()\n",
    "# If you didn't see this dataset in 10 other tutorials, you're probably new here."
   ]
  },
  {
   "cell_type": "markdown",
   "metadata": {},
   "source": [
    "### Step 3: Normalize the Data Like a Pro\n",
    "\n",
    "Here, we normalize the data. Why? Because apparently, our AI model is too good to handle raw, unrefined pixel values. Instead, it demands everything in nice, neat little decimal places.\n"
   ]
  },
  {
   "cell_type": "code",
   "execution_count": 3,
   "metadata": {},
   "outputs": [],
   "source": [
    "train_images, test_images = train_images / 255.0, test_images / 255.0\n",
    "# Dividing by 255 to make sure all the pixel values are between 0 and 1, because the model likes its numbers small.\n"
   ]
  },
  {
   "cell_type": "markdown",
   "metadata": {},
   "source": [
    "### Step 4: Display a Random Image\n",
    "\n",
    "Let’s display a random image from the dataset, because showing it to the model wasn’t enough – we need to see it too. Here’s hoping it looks like a digit and not a smudge.\n"
   ]
  },
  {
   "cell_type": "code",
   "execution_count": 4,
   "metadata": {},
   "outputs": [
    {
     "data": {
      "image/png": "[encoded data removed]",
      "text/plain": [
       "<Figure size 640x480 with 1 Axes>"
      ]
     },
     "metadata": {},
     "output_type": "display_data"
    }
   ],
   "source": [
    "plt.imshow(train_images[0], cmap='gray')  \n",
    "# Gray, because colors are too mainstream.\n",
    "plt.title(f\"Label: {train_labels[0]}\")  \n",
    "# Adding a title, just in case you didn’t realize it’s a digit.\n",
    "plt.show()  \n",
    "# Let's hope it’s recognizable, or this whole thing is pointless.\n"
   ]
  },
  {
   "cell_type": "markdown",
   "metadata": {},
   "source": [
    "### Step 5: Build the Ultimate Neural Network (or Something Close to It)\n",
    "\n",
    "Now we’re building our neural network. This is where we throw in some layers and act like we know exactly why they’re there. More neurons, more layers, more power, right? Sure, let’s go with that.\n"
   ]
  },
  {
   "cell_type": "code",
   "execution_count": 5,
   "metadata": {},
   "outputs": [],
   "source": [
    "model = models.Sequential([\n",
    "    layers.Flatten(input_shape=(28, 28)),  # Flattening the 2D array into a 1D array because simplicity is key.\n",
    "    layers.Dense(128, activation='relu'),  # 128 neurons, because why not? The more, the merrier.\n",
    "    layers.Dense(10, activation='softmax')  # Softmax for output, because it sounds smart.\n",
    "])"
   ]
  },
  {
   "cell_type": "markdown",
   "metadata": {},
   "source": [
    "### Step 6: Compile the Model with an Overly Complicated Function\n",
    "\n",
    "We compile the model using Adam (the optimizer, not some guy we know) and a loss function with a name longer than this explanation. We also tell it to keep an eye on the accuracy, because that’s the only number anyone really cares about.\n"
   ]
  },
  {
   "cell_type": "code",
   "execution_count": 6,
   "metadata": {},
   "outputs": [],
   "source": [
    "model.compile(optimizer='adam',  # Adam is always there for us. Thanks, Adam!\n",
    "              loss='sparse_categorical_crossentropy',  # A fancy way of saying \"How wrong were we?\"\n",
    "              metrics=['accuracy'])  # Because \"accuracy\" sounds impressive."
   ]
  },
  {
   "cell_type": "markdown",
   "metadata": {},
   "source": [
    "### Step 7: Train the Model (And Pray It Learns Something)\n",
    "\n",
    "Now, we train the model on our ancient dataset for a whopping 5 epochs – because who has time for more? Let’s see if it can figure out that a ‘2’ is, indeed, a ‘2’.\n"
   ]
  },
  {
   "cell_type": "code",
   "execution_count": 7,
   "metadata": {},
   "outputs": [
    {
     "name": "stdout",
     "output_type": "stream",
     "text": [
      "Epoch 1/5\n",
      "1875/1875 [==============================] - 3s 2ms/step - loss: 0.2603 - accuracy: 0.9255\n",
      "Epoch 2/5\n",
      "1875/1875 [==============================] - 3s 2ms/step - loss: 0.1134 - accuracy: 0.9669\n",
      "Epoch 3/5\n",
      "1875/1875 [==============================] - 3s 2ms/step - loss: 0.0776 - accuracy: 0.9771\n",
      "Epoch 4/5\n",
      "1875/1875 [==============================] - 3s 2ms/step - loss: 0.0589 - accuracy: 0.9822\n",
      "Epoch 5/5\n",
      "1875/1875 [==============================] - 3s 2ms/step - loss: 0.0440 - accuracy: 0.9869\n"
     ]
    },
    {
     "data": {
      "text/plain": [
       "<keras.src.callbacks.History at 0x14a66e52e90>"
      ]
     },
     "execution_count": 7,
     "metadata": {},
     "output_type": "execute_result"
    }
   ],
   "source": [
    "model.fit(train_images, train_labels, epochs=5)  # Five whole epochs, because we live life on the edge."
   ]
  },
  {
   "cell_type": "markdown",
   "metadata": {},
   "source": [
    "### Step 8: Evaluate the Model and See if It Was All Worth It\n",
    "\n",
    "Finally, we evaluate the model. Time to see if it has any clue what it’s doing – or if it’s just as clueless as we are. \n"
   ]
  },
  {
   "cell_type": "code",
   "execution_count": 8,
   "metadata": {},
   "outputs": [
    {
     "name": "stdout",
     "output_type": "stream",
     "text": [
      "313/313 - 0s - loss: 0.0907 - accuracy: 0.9719 - 413ms/epoch - 1ms/step\n",
      "Test accuracy: 0.9718999862670898\n"
     ]
    }
   ],
   "source": [
    "test_loss, test_acc = model.evaluate(test_images, test_labels, verbose=2)\n",
    "print(f'Test accuracy: {test_acc}')  # Fingers crossed for a number above 90% so we can call it a success!\n"
   ]
  }
 ],
 "metadata": {
  "kernelspec": {
   "display_name": "Python 3",
   "language": "python",
   "name": "python3"
  },
  "language_info": {
   "codemirror_mode": {
    "name": "ipython",
    "version": 3
   },
   "file_extension": ".py",
   "mimetype": "text/x-python",
   "name": "python",
   "nbconvert_exporter": "python",
   "pygments_lexer": "ipython3",
   "version": "3.11.4"
  }
 },
 "nbformat": 4,
 "nbformat_minor": 2
}
